{
 "cells": [
  {
   "cell_type": "code",
   "execution_count": 1,
   "metadata": {},
   "outputs": [],
   "source": [
    "import numpy as np\n",
    "import pandas as pd\n",
    "\n",
    "from sklearn.linear_model import LinearRegression, Lasso, Ridge\n",
    "from sklearn.pipeline import make_pipeline\n",
    "from sklearn.preprocessing import StandardScaler, PolynomialFeatures, OneHotEncoder\n",
    "from sklearn.model_selection import train_test_split, GridSearchCV\n",
    "from sklearn.compose import make_column_selector, make_column_transformer\n",
    "from sklearn.metrics import mean_squared_error\n",
    "from sklearn.dummy import DummyRegressor\n",
    "from sklearn.feature_selection import RFE\n",
    "from sklearn.impute import SimpleImputer, KNNImputer\n",
    "\n",
    "from sklearn import set_config\n",
    "set_config(display='diagram')"
   ]
  },
  {
   "cell_type": "code",
   "execution_count": 2,
   "metadata": {},
   "outputs": [],
   "source": [
    "housing = pd.read_csv('../datasets/train_clean.csv')"
   ]
  },
  {
   "cell_type": "markdown",
   "metadata": {},
   "source": [
    "log transformation of sale price"
   ]
  },
  {
   "cell_type": "code",
   "execution_count": 3,
   "metadata": {},
   "outputs": [],
   "source": [
    "housing['price_log'] = np.log(housing['saleprice'])"
   ]
  },
  {
   "cell_type": "code",
   "execution_count": 4,
   "metadata": {},
   "outputs": [],
   "source": [
    "# remove outliers\n",
    "\n",
    "housing = housing[housing['1st_flr_sf'] < 3000]\n",
    "housing = housing[(housing['total_bsmt_sf'] > 0) & (housing['total_bsmt_sf'] < 3000)]\n",
    "housing = housing[housing['gr_liv_area'] < 4000]\n",
    "housing = housing[housing['lot_area'] < 40000]\n",
    "housing = housing[housing['garage_area'] > 0]\n",
    "housing = housing[housing['2nd_flr_sf'] > 0]\n",
    "\n",
    "housing = housing[(housing['saleprice'] > 50_000) & (housing['saleprice'] < 500_000)]"
   ]
  },
  {
   "cell_type": "markdown",
   "metadata": {},
   "source": [
    "columns with continious values to log transform"
   ]
  },
  {
   "cell_type": "code",
   "execution_count": 5,
   "metadata": {},
   "outputs": [],
   "source": [
    "all_cols = [\n",
    "    \"lot_frontage\",\n",
    "    \"lot_area\",\n",
    "    \"mas_vnr_area\",\n",
    "    \"bsmtfin_sf_1\",\n",
    "    \"bsmtfin_sf_2\",\n",
    "    \"bsmt_unf_sf\",\n",
    "    \"total_bsmt_sf\",\n",
    "    \"1st_flr_sf\",\n",
    "    \"2nd_flr_sf\",\n",
    "    \"low_qual_fin_sf\",\n",
    "    \"gr_liv_area\",\n",
    "    \"garage_area\",\n",
    "    \"wood_deck_sf\",\n",
    "    \"open_porch_sf\",\n",
    "    \"enclosed_porch\",\n",
    "    \"3ssn_porch\",\n",
    "    \"screen_porch\",\n",
    "    \"pool_area\",\n",
    "]"
   ]
  },
  {
   "cell_type": "markdown",
   "metadata": {},
   "source": [
    "log transformation function"
   ]
  },
  {
   "cell_type": "code",
   "execution_count": 6,
   "metadata": {},
   "outputs": [],
   "source": [
    "def log_transform(df, cols):\n",
    "    for col in cols:\n",
    "        df[col] = np.log(df[col] + 1)\n",
    "\n",
    "log_transform(housing, all_cols)"
   ]
  },
  {
   "cell_type": "markdown",
   "metadata": {},
   "source": [
    "X = Features to be trained on\n",
    "\n",
    "y = What the model is trying to predict"
   ]
  },
  {
   "cell_type": "code",
   "execution_count": 7,
   "metadata": {},
   "outputs": [],
   "source": [
    "X = housing[\n",
    "    [\n",
    "        \"overall_qual\",\n",
    "        \"gr_liv_area\",\n",
    "        'exter_qual',\n",
    "        \"kitchen_qual\",\n",
    "        'garage_cars',\n",
    "        'bsmt_qual',\n",
    "        \"1st_flr_sf\",\n",
    "        'year_remod_add',\n",
    "        'full_bath',\n",
    "        'fireplace_qu',\n",
    "        \"total_bsmt_sf\",\n",
    "        \"neighborhood\"\n",
    "    ]\n",
    "]\n",
    "y = housing[\"price_log\"]"
   ]
  },
  {
   "cell_type": "markdown",
   "metadata": {},
   "source": [
    "Splitting data into training and testing sets"
   ]
  },
  {
   "cell_type": "code",
   "execution_count": 8,
   "metadata": {},
   "outputs": [],
   "source": [
    "X_train, X_test, y_train, y_test = train_test_split(X, y)"
   ]
  },
  {
   "cell_type": "markdown",
   "metadata": {},
   "source": [
    "### Model"
   ]
  },
  {
   "cell_type": "code",
   "execution_count": 9,
   "metadata": {},
   "outputs": [
    {
     "data": {
      "text/plain": [
       "{'polynomialfeatures__degree': 1,\n",
       " 'polynomialfeatures__interaction_only': True,\n",
       " 'ridge__alpha': 100}"
      ]
     },
     "execution_count": 9,
     "metadata": {},
     "output_type": "execute_result"
    }
   ],
   "source": [
    "# column transformer that uses OneHotEncoder to encode nominal features\n",
    "ct = make_column_transformer(\n",
    "    (OneHotEncoder(sparse=False, handle_unknown='ignore'), make_column_selector(dtype_include=object)),\n",
    "    remainder='passthrough',\n",
    "    verbose_feature_names_out=False\n",
    ")\n",
    "\n",
    "# pipeline that transforms columns, fills missing values in data using KNNInputer, generates polynomial features and feature interactions, scales data, and uses a Ridge regression model\n",
    "pipe = make_pipeline(ct, KNNImputer(), PolynomialFeatures(), StandardScaler(), Ridge())\n",
    "\n",
    "\n",
    "# parameters used in the grid search\n",
    "params = {\n",
    "    'polynomialfeatures__degree': [1, 2, 3],\n",
    "    'polynomialfeatures__interaction_only': [True, False], \n",
    "    'ridge__alpha': [1, 10, 50, 100],\n",
    "}\n",
    "\n",
    "# grid searches to find the best model and parameters\n",
    "gs = GridSearchCV(pipe, params)\n",
    "gs.fit(X_train, y_train)\n",
    "\n",
    "gs.best_params_"
   ]
  },
  {
   "cell_type": "markdown",
   "metadata": {},
   "source": [
    "#### Scores"
   ]
  },
  {
   "cell_type": "code",
   "execution_count": 10,
   "metadata": {},
   "outputs": [
    {
     "name": "stdout",
     "output_type": "stream",
     "text": [
      "Train R2:  0.8852986810693276\n",
      " Test R2:  0.8767951002907464\n",
      "    RMSE:  24125.783935157233\n"
     ]
    }
   ],
   "source": [
    "preds = gs.predict(X_test)\n",
    "\n",
    "print('Train R2: ', gs.score(X_train, y_train))\n",
    "print(' Test R2: ', gs.score(X_test, y_test))\n",
    "print('    RMSE: ', mean_squared_error(np.exp(y_test), np.exp(preds), squared=False))"
   ]
  },
  {
   "cell_type": "markdown",
   "metadata": {},
   "source": [
    "#### Coefficients for features used"
   ]
  },
  {
   "cell_type": "code",
   "execution_count": 11,
   "metadata": {},
   "outputs": [
    {
     "data": {
      "text/html": [
       "<div>\n",
       "<style scoped>\n",
       "    .dataframe tbody tr th:only-of-type {\n",
       "        vertical-align: middle;\n",
       "    }\n",
       "\n",
       "    .dataframe tbody tr th {\n",
       "        vertical-align: top;\n",
       "    }\n",
       "\n",
       "    .dataframe thead th {\n",
       "        text-align: right;\n",
       "    }\n",
       "</style>\n",
       "<table border=\"1\" class=\"dataframe\">\n",
       "  <thead>\n",
       "    <tr style=\"text-align: right;\">\n",
       "      <th></th>\n",
       "      <th>0</th>\n",
       "      <th>1</th>\n",
       "    </tr>\n",
       "  </thead>\n",
       "  <tbody>\n",
       "    <tr>\n",
       "      <th>17</th>\n",
       "      <td>neighborhood_SWISU</td>\n",
       "      <td>-0.030395</td>\n",
       "    </tr>\n",
       "    <tr>\n",
       "      <th>7</th>\n",
       "      <td>neighborhood_Gilbert</td>\n",
       "      <td>-0.020042</td>\n",
       "    </tr>\n",
       "    <tr>\n",
       "      <th>10</th>\n",
       "      <td>neighborhood_Mitchel</td>\n",
       "      <td>-0.019711</td>\n",
       "    </tr>\n",
       "    <tr>\n",
       "      <th>9</th>\n",
       "      <td>neighborhood_MeadowV</td>\n",
       "      <td>-0.010080</td>\n",
       "    </tr>\n",
       "    <tr>\n",
       "      <th>13</th>\n",
       "      <td>neighborhood_NWAmes</td>\n",
       "      <td>-0.010005</td>\n",
       "    </tr>\n",
       "    <tr>\n",
       "      <th>24</th>\n",
       "      <td>overall_qual</td>\n",
       "      <td>-0.009849</td>\n",
       "    </tr>\n",
       "    <tr>\n",
       "      <th>2</th>\n",
       "      <td>neighborhood_BrkSide</td>\n",
       "      <td>-0.009713</td>\n",
       "    </tr>\n",
       "    <tr>\n",
       "      <th>1</th>\n",
       "      <td>neighborhood_BrDale</td>\n",
       "      <td>-0.005635</td>\n",
       "    </tr>\n",
       "    <tr>\n",
       "      <th>18</th>\n",
       "      <td>neighborhood_Sawyer</td>\n",
       "      <td>-0.005245</td>\n",
       "    </tr>\n",
       "    <tr>\n",
       "      <th>12</th>\n",
       "      <td>neighborhood_NPkVill</td>\n",
       "      <td>-0.001790</td>\n",
       "    </tr>\n",
       "    <tr>\n",
       "      <th>3</th>\n",
       "      <td>neighborhood_ClearCr</td>\n",
       "      <td>-0.001149</td>\n",
       "    </tr>\n",
       "    <tr>\n",
       "      <th>19</th>\n",
       "      <td>neighborhood_SawyerW</td>\n",
       "      <td>-0.000383</td>\n",
       "    </tr>\n",
       "    <tr>\n",
       "      <th>0</th>\n",
       "      <td>neighborhood_Blueste</td>\n",
       "      <td>0.000000</td>\n",
       "    </tr>\n",
       "    <tr>\n",
       "      <th>20</th>\n",
       "      <td>neighborhood_Somerst</td>\n",
       "      <td>0.002155</td>\n",
       "    </tr>\n",
       "    <tr>\n",
       "      <th>8</th>\n",
       "      <td>neighborhood_IDOTRR</td>\n",
       "      <td>0.003020</td>\n",
       "    </tr>\n",
       "    <tr>\n",
       "      <th>4</th>\n",
       "      <td>neighborhood_CollgCr</td>\n",
       "      <td>0.003674</td>\n",
       "    </tr>\n",
       "    <tr>\n",
       "      <th>23</th>\n",
       "      <td>neighborhood_Veenker</td>\n",
       "      <td>0.005214</td>\n",
       "    </tr>\n",
       "    <tr>\n",
       "      <th>11</th>\n",
       "      <td>neighborhood_NAmes</td>\n",
       "      <td>0.005782</td>\n",
       "    </tr>\n",
       "    <tr>\n",
       "      <th>5</th>\n",
       "      <td>neighborhood_Crawfor</td>\n",
       "      <td>0.007556</td>\n",
       "    </tr>\n",
       "    <tr>\n",
       "      <th>14</th>\n",
       "      <td>neighborhood_NoRidge</td>\n",
       "      <td>0.008119</td>\n",
       "    </tr>\n",
       "    <tr>\n",
       "      <th>21</th>\n",
       "      <td>neighborhood_StoneBr</td>\n",
       "      <td>0.009713</td>\n",
       "    </tr>\n",
       "    <tr>\n",
       "      <th>22</th>\n",
       "      <td>neighborhood_Timber</td>\n",
       "      <td>0.012792</td>\n",
       "    </tr>\n",
       "    <tr>\n",
       "      <th>27</th>\n",
       "      <td>kitchen_qual</td>\n",
       "      <td>0.015166</td>\n",
       "    </tr>\n",
       "    <tr>\n",
       "      <th>33</th>\n",
       "      <td>fireplace_qu</td>\n",
       "      <td>0.016468</td>\n",
       "    </tr>\n",
       "    <tr>\n",
       "      <th>16</th>\n",
       "      <td>neighborhood_OldTown</td>\n",
       "      <td>0.017561</td>\n",
       "    </tr>\n",
       "    <tr>\n",
       "      <th>15</th>\n",
       "      <td>neighborhood_NridgHt</td>\n",
       "      <td>0.018260</td>\n",
       "    </tr>\n",
       "    <tr>\n",
       "      <th>6</th>\n",
       "      <td>neighborhood_Edwards</td>\n",
       "      <td>0.020850</td>\n",
       "    </tr>\n",
       "    <tr>\n",
       "      <th>30</th>\n",
       "      <td>1st_flr_sf</td>\n",
       "      <td>0.027040</td>\n",
       "    </tr>\n",
       "    <tr>\n",
       "      <th>29</th>\n",
       "      <td>bsmt_qual</td>\n",
       "      <td>0.028850</td>\n",
       "    </tr>\n",
       "    <tr>\n",
       "      <th>34</th>\n",
       "      <td>total_bsmt_sf</td>\n",
       "      <td>0.035757</td>\n",
       "    </tr>\n",
       "    <tr>\n",
       "      <th>32</th>\n",
       "      <td>full_bath</td>\n",
       "      <td>0.036048</td>\n",
       "    </tr>\n",
       "    <tr>\n",
       "      <th>28</th>\n",
       "      <td>garage_cars</td>\n",
       "      <td>0.036712</td>\n",
       "    </tr>\n",
       "    <tr>\n",
       "      <th>31</th>\n",
       "      <td>year_remod_add</td>\n",
       "      <td>0.038130</td>\n",
       "    </tr>\n",
       "    <tr>\n",
       "      <th>25</th>\n",
       "      <td>gr_liv_area</td>\n",
       "      <td>0.052062</td>\n",
       "    </tr>\n",
       "    <tr>\n",
       "      <th>26</th>\n",
       "      <td>exter_qual</td>\n",
       "      <td>0.075831</td>\n",
       "    </tr>\n",
       "  </tbody>\n",
       "</table>\n",
       "</div>"
      ],
      "text/plain": [
       "                       0         1\n",
       "17    neighborhood_SWISU -0.030395\n",
       "7   neighborhood_Gilbert -0.020042\n",
       "10  neighborhood_Mitchel -0.019711\n",
       "9   neighborhood_MeadowV -0.010080\n",
       "13   neighborhood_NWAmes -0.010005\n",
       "24          overall_qual -0.009849\n",
       "2   neighborhood_BrkSide -0.009713\n",
       "1    neighborhood_BrDale -0.005635\n",
       "18   neighborhood_Sawyer -0.005245\n",
       "12  neighborhood_NPkVill -0.001790\n",
       "3   neighborhood_ClearCr -0.001149\n",
       "19  neighborhood_SawyerW -0.000383\n",
       "0   neighborhood_Blueste  0.000000\n",
       "20  neighborhood_Somerst  0.002155\n",
       "8    neighborhood_IDOTRR  0.003020\n",
       "4   neighborhood_CollgCr  0.003674\n",
       "23  neighborhood_Veenker  0.005214\n",
       "11    neighborhood_NAmes  0.005782\n",
       "5   neighborhood_Crawfor  0.007556\n",
       "14  neighborhood_NoRidge  0.008119\n",
       "21  neighborhood_StoneBr  0.009713\n",
       "22   neighborhood_Timber  0.012792\n",
       "27          kitchen_qual  0.015166\n",
       "33          fireplace_qu  0.016468\n",
       "16  neighborhood_OldTown  0.017561\n",
       "15  neighborhood_NridgHt  0.018260\n",
       "6   neighborhood_Edwards  0.020850\n",
       "30            1st_flr_sf  0.027040\n",
       "29             bsmt_qual  0.028850\n",
       "34         total_bsmt_sf  0.035757\n",
       "32             full_bath  0.036048\n",
       "28           garage_cars  0.036712\n",
       "31        year_remod_add  0.038130\n",
       "25           gr_liv_area  0.052062\n",
       "26            exter_qual  0.075831"
      ]
     },
     "execution_count": 11,
     "metadata": {},
     "output_type": "execute_result"
    }
   ],
   "source": [
    "coefs = gs.best_estimator_.named_steps['ridge'].coef_\n",
    "cols = gs.best_estimator_.named_steps['columntransformer'].get_feature_names_out()\n",
    "pd.DataFrame(zip(cols, coefs)).sort_values(1)"
   ]
  },
  {
   "cell_type": "markdown",
   "metadata": {},
   "source": [
    "### Loop to run multiple tests of a model"
   ]
  },
  {
   "cell_type": "code",
   "execution_count": 12,
   "metadata": {},
   "outputs": [],
   "source": [
    "# scores = []\n",
    "\n",
    "# for n in range(1,51):\n",
    "\n",
    "#     X_train, X_test, y_train, y_test = train_test_split(X, y)\n",
    "\n",
    "#     gs.fit(X_train, y_train)\n",
    "#     preds = gs.predict(X_test)\n",
    "#     scores.append(mean_squared_error(np.exp(y_test), np.exp(preds), squared=False))\n",
    "\n",
    "# scores"
   ]
  },
  {
   "cell_type": "code",
   "execution_count": 13,
   "metadata": {},
   "outputs": [],
   "source": [
    "# np.mean(scores)"
   ]
  },
  {
   "cell_type": "markdown",
   "metadata": {},
   "source": [
    "Ridge with log transformation\n",
    "\n",
    "Mean of 50 tests = 24735.858909685216"
   ]
  }
 ],
 "metadata": {
  "interpreter": {
   "hash": "b3ba2566441a7c06988d0923437866b63cedc61552a5af99d1f4fb67d367b25f"
  },
  "kernelspec": {
   "display_name": "Python 3.9.7 64-bit ('base': conda)",
   "language": "python",
   "name": "python3"
  },
  "language_info": {
   "codemirror_mode": {
    "name": "ipython",
    "version": 3
   },
   "file_extension": ".py",
   "mimetype": "text/x-python",
   "name": "python",
   "nbconvert_exporter": "python",
   "pygments_lexer": "ipython3",
   "version": "3.9.7"
  },
  "orig_nbformat": 4
 },
 "nbformat": 4,
 "nbformat_minor": 2
}
